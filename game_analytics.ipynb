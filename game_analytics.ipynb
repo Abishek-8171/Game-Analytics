{
 "cells": [
  {
   "cell_type": "markdown",
   "metadata": {},
   "source": [
    "***GAME ANALYTICS***"
   ]
  },
  {
   "cell_type": "code",
   "execution_count": 1,
   "metadata": {},
   "outputs": [],
   "source": [
    "#!pip install requests\n",
    "#!pip install sqlalchemy\n",
    "#!pip install psycopg2\n",
    "import pandas as pd"
   ]
  },
  {
   "cell_type": "markdown",
   "metadata": {},
   "source": [
    "***COMPETITION DATA FROM THE API ENDPOINTS***"
   ]
  },
  {
   "cell_type": "code",
   "execution_count": null,
   "metadata": {},
   "outputs": [],
   "source": [
    "#Data from competitions\n",
    "\n",
    "import requests\n",
    "\n",
    "url = \"https://api.sportradar.com/tennis/trial/v3/en/competitions.json?api_key=a08eFD4gW6W90MmstinncNcOJsJBht3e3PLwWb8q\"\n",
    "\n",
    "headers = {\"accept\": \"application/json\"}\n",
    "\n",
    "response = requests.get(url, headers=headers)\n",
    "\n",
    "print(response.text)\n",
    "\n",
    "\n"
   ]
  },
  {
   "cell_type": "code",
   "execution_count": null,
   "metadata": {},
   "outputs": [],
   "source": [
    "# Storing json data into another variable\n",
    "competitions_json = response.text\n",
    "\n",
    "#Converting json data into a dictionary format\n",
    "comp_dict=json.loads(competitions_json)\n",
    "\n",
    "#Normalizing nested json data into structured format \n",
    "competitions_nor=pd.json_normalize(comp_dict,['competitions'],max_level=2)\n",
    "\n",
    "#Normalized data converted into a Dataframe\n",
    "competitions_df=pd.DataFrame(competitions_nor)\n"
   ]
  },
  {
   "cell_type": "code",
   "execution_count": null,
   "metadata": {},
   "outputs": [],
   "source": [
    "#Renaming a column \n",
    "competitions_df.rename(columns={'category.id':'category_id'},inplace=True)\n"
   ]
  },
  {
   "cell_type": "code",
   "execution_count": null,
   "metadata": {},
   "outputs": [],
   "source": [
    "#Renaming a column \n",
    "competitions_df.rename(columns={'category.name':'category_name'},inplace=True)\n"
   ]
  },
  {
   "cell_type": "code",
   "execution_count": null,
   "metadata": {},
   "outputs": [],
   "source": [
    "#Renaming a column \n",
    "competitions_df.rename(columns={'name':'competition_name'},inplace=True)\n"
   ]
  },
  {
   "cell_type": "code",
   "execution_count": null,
   "metadata": {},
   "outputs": [],
   "source": [
    "#Renaming a column \n",
    "competitions_df.rename(columns={'id':'competition_id'},inplace=True)\n"
   ]
  },
  {
   "cell_type": "code",
   "execution_count": null,
   "metadata": {},
   "outputs": [],
   "source": [
    "#Seprating categories table from dataframe\n",
    "Categories_table =competitions_df[['category_id','category_name']]\n",
    "Categories_table"
   ]
  },
  {
   "cell_type": "code",
   "execution_count": 49,
   "metadata": {},
   "outputs": [],
   "source": [
    "#Grouping categories to find unique categories \n",
    "group_Categories_table=Categories_table.category_name.groupby(Categories_table.category_id).value_counts()"
   ]
  },
  {
   "cell_type": "code",
   "execution_count": null,
   "metadata": {},
   "outputs": [],
   "source": [
    "#grouped categories converted into data frame\n",
    "group_Categories_table_df=pd.DataFrame(group_Categories_table)"
   ]
  },
  {
   "cell_type": "code",
   "execution_count": null,
   "metadata": {},
   "outputs": [],
   "source": [
    "#Removing column=\"count\" from the group_Categories_table_df \n",
    "final_Categories_table = group_Categories_table_df.drop(columns=['count'])"
   ]
  },
  {
   "cell_type": "code",
   "execution_count": null,
   "metadata": {},
   "outputs": [],
   "source": [
    "#Adding index column to the group_Categories_table_df \n",
    "final_Categories_table = final_Categories_table.reset_index()"
   ]
  },
  {
   "cell_type": "code",
   "execution_count": null,
   "metadata": {},
   "outputs": [],
   "source": [
    "\n",
    "#importing Categories_table to sports database\n",
    "from sqlalchemy import create_engine\n",
    "host = \"localhost\"\n",
    "port =\"5432\"\n",
    "username = \"postgres\" \n",
    "password = \"begin25\"\n",
    "db_name = \"game_analytics\"\n",
    "\n",
    "conn_string =f\"postgresql://{username}:{password}@{host}:{port}/{db_name}\" #must follow this syntax\n",
    "\n",
    "engine = create_engine(conn_string)\n",
    "\n",
    "table_name =\"categories_table\"\n",
    "\n",
    "final_Categories_table.to_sql(table_name,engine,if_exists=\"replace\",index= False)\n",
    "\n",
    "print(\"Data Transferred Successfully\")\n",
    "\n"
   ]
  },
  {
   "cell_type": "code",
   "execution_count": null,
   "metadata": {},
   "outputs": [],
   "source": [
    "#Seprating Competitions table from dataframe\n",
    "competitions_table =competitions_df[['competition_id','competition_name','parent_id','type','gender','category_id']]"
   ]
  },
  {
   "cell_type": "code",
   "execution_count": null,
   "metadata": {},
   "outputs": [],
   "source": [
    "#importing competitions_table to sports database\n",
    "from sqlalchemy import create_engine\n",
    "host = \"localhost\"\n",
    "port =\"5432\"\n",
    "username = \"postgres\" \n",
    "password = \"begin25\"\n",
    "db_name = \"game_analytics\"\n",
    "\n",
    "conn_string =f\"postgresql://{username}:{password}@{host}:{port}/{db_name}\" #must follow this syntax\n",
    "\n",
    "engine = create_engine(conn_string)\n",
    "\n",
    "table_name =\"competitions_table\"\n",
    "\n",
    "competitions_table.to_sql(table_name,engine,if_exists=\"replace\",index= False)\n",
    "\n",
    "print(\"Data Transferred Successfully\")"
   ]
  },
  {
   "cell_type": "markdown",
   "metadata": {},
   "source": [
    "***COMPLEXES DATA FROM THE API ENDPOINTS***"
   ]
  },
  {
   "cell_type": "code",
   "execution_count": null,
   "metadata": {},
   "outputs": [],
   "source": [
    "#Data from complexes\n",
    "\n",
    "import requests\n",
    "\n",
    "url = \"https://api.sportradar.com/tennis/trial/v3/en/complexes.json?api_key=a08eFD4gW6W90MmstinncNcOJsJBht3e3PLwWb8q\"\n",
    "\n",
    "headers = {\"accept\": \"application/json\"}\n",
    "\n",
    "response1 = requests.get(url, headers=headers)\n",
    "\n",
    "print(response1.text)\n"
   ]
  },
  {
   "cell_type": "code",
   "execution_count": null,
   "metadata": {},
   "outputs": [],
   "source": [
    "import json\n",
    "# Storing json data into another variable\n",
    "complexes_json = response1.text\n",
    "#Converting json data into a dictionary format\n",
    "complexes_dict=json.loads(complexes_json)\n",
    "#Normalizing nested json data into structured format \n",
    "complexes_nor=pd.json_normalize(complexes_dict,record_path=['complexes'])"
   ]
  },
  {
   "cell_type": "code",
   "execution_count": 6,
   "metadata": {},
   "outputs": [],
   "source": [
    "#Seprating each column nested inside the venues\n",
    "#venue_id\n",
    "complexes_nor[\"venues\"][0]\n",
    "venue_id=[]\n",
    "for i in complexes_nor[\"venues\"]:\n",
    "    try:\n",
    "        venue_id.append(i[0][\"id\"])\n",
    "\n",
    "    except:\n",
    "        venue_id.append(\"Na\")\n",
    "\n",
    "complexes_nor[\"venue_id\"]=venue_id"
   ]
  },
  {
   "cell_type": "code",
   "execution_count": 7,
   "metadata": {},
   "outputs": [],
   "source": [
    "#venue_name\n",
    "\n",
    "venue_name=[]\n",
    "for i in complexes_nor[\"venues\"]:\n",
    "    try:\n",
    "        venue_name.append(i[0][\"name\"])\n",
    "    except:\n",
    "        venue_name.append(\"Na\")    \n",
    "\n",
    "complexes_nor[\"venue_name\"] = venue_name         "
   ]
  },
  {
   "cell_type": "code",
   "execution_count": 8,
   "metadata": {},
   "outputs": [],
   "source": [
    "#city_name\n",
    "\n",
    "city_name=[]\n",
    "\n",
    "for i in complexes_nor[\"venues\"]:\n",
    "    try:\n",
    "        city_name.append(i[0][\"city_name\"])\n",
    "    except:\n",
    "        city_name.append(\"Na\")    \n",
    "\n",
    "complexes_nor[\"city_name\"] = city_name   "
   ]
  },
  {
   "cell_type": "code",
   "execution_count": 9,
   "metadata": {},
   "outputs": [],
   "source": [
    "#country_name\n",
    "\n",
    "country_name=[]\n",
    "\n",
    "for i in complexes_nor[\"venues\"]:\n",
    "    try:\n",
    "        country_name.append(i[0][\"country_name\"])\n",
    "    except:\n",
    "        country_name.append(\"Na\")    \n",
    "\n",
    "complexes_nor[\"country_name\"] = country_name   \n"
   ]
  },
  {
   "cell_type": "code",
   "execution_count": 10,
   "metadata": {},
   "outputs": [],
   "source": [
    "#country_code\n",
    "\n",
    "country_code=[]\n",
    "\n",
    "for i in complexes_nor[\"venues\"]:\n",
    "    try:\n",
    "        country_code.append(i[0][\"country_code\"])\n",
    "    except:\n",
    "        country_code.append(\"Na\")    \n",
    "\n",
    "complexes_nor[\"country_code\"] = country_code   "
   ]
  },
  {
   "cell_type": "code",
   "execution_count": 11,
   "metadata": {},
   "outputs": [],
   "source": [
    "#timezone\n",
    "\n",
    "timezone=[]\n",
    "\n",
    "for i in complexes_nor[\"venues\"]:\n",
    "    try:\n",
    "        timezone.append(i[0][\"timezone\"])\n",
    "    except:\n",
    "        timezone.append(\"Na\")    \n",
    "\n",
    "complexes_nor[\"timezone\"] = timezone   \n",
    "\n"
   ]
  },
  {
   "cell_type": "code",
   "execution_count": 12,
   "metadata": {},
   "outputs": [],
   "source": [
    "# dropping venues column after the sepration\n",
    "complexes_final=complexes_nor.drop(columns=[\"venues\"])"
   ]
  },
  {
   "cell_type": "code",
   "execution_count": 13,
   "metadata": {},
   "outputs": [],
   "source": [
    "#Renaming a column \n",
    "complexes_final.rename(columns={'id':'complex_id'},inplace=True)"
   ]
  },
  {
   "cell_type": "code",
   "execution_count": 14,
   "metadata": {},
   "outputs": [],
   "source": [
    "#Renaming a column \n",
    "complexes_final.rename(columns={'name':'complex_name'},inplace=True)"
   ]
  },
  {
   "cell_type": "code",
   "execution_count": 21,
   "metadata": {},
   "outputs": [],
   "source": [
    "#Seprating complexes_table from dataframe\n",
    "Complexes_Table=complexes_final[['complex_id','complex_name']]"
   ]
  },
  {
   "cell_type": "code",
   "execution_count": null,
   "metadata": {},
   "outputs": [],
   "source": [
    "#importing Complexes_Table Table to sports database\n",
    "from sqlalchemy import create_engine\n",
    "host = \"localhost\"\n",
    "port =\"5432\"\n",
    "username = \"postgres\" \n",
    "password = \"begin25\"\n",
    "db_name = \"game_analytics\"\n",
    "\n",
    "conn_string =f\"postgresql://{username}:{password}@{host}:{port}/{db_name}\" #must follow this syntax\n",
    "\n",
    "engine = create_engine(conn_string)\n",
    "\n",
    "table_name =\"complexes_table\"\n",
    "\n",
    "Complexes_Table.to_sql(table_name,engine,if_exists=\"replace\",index= False)\n",
    "\n",
    "print('Data Transferred Successfully')"
   ]
  },
  {
   "cell_type": "code",
   "execution_count": 22,
   "metadata": {},
   "outputs": [],
   "source": [
    "#Seprating venues_table from dataframe\n",
    "Venues_Table =complexes_final[['venue_id','venue_name','city_name','country_name','country_code','timezone','complex_id']]"
   ]
  },
  {
   "cell_type": "code",
   "execution_count": 25,
   "metadata": {},
   "outputs": [],
   "source": [
    "# Droping row with null values\n",
    "Venues_Table1 = Venues_Table[Venues_Table['venue_id'] != 'Na']\n",
    "#Converting into a dataframe\n",
    "Venues_Table1_final = pd.DataFrame(Venues_Table1)"
   ]
  },
  {
   "cell_type": "code",
   "execution_count": null,
   "metadata": {},
   "outputs": [],
   "source": [
    "#importing Venues_Table Table to sports database\n",
    "from sqlalchemy import create_engine\n",
    "host = \"localhost\"\n",
    "port =\"5432\"\n",
    "username = \"postgres\" \n",
    "password = \"begin25\"\n",
    "db_name = \"game_analytics\"\n",
    "\n",
    "conn_string =f\"postgresql://{username}:{password}@{host}:{port}/{db_name}\" #must follow this syntax\n",
    "\n",
    "engine = create_engine(conn_string)\n",
    "\n",
    "table_name =\"venues_table\"\n",
    "\n",
    "Venues_Table1_final.to_sql(table_name,engine,if_exists=\"replace\",index= False)\n",
    "\n",
    "print('Data Transferred Successfully')"
   ]
  },
  {
   "cell_type": "markdown",
   "metadata": {},
   "source": [
    "\n",
    "***DOUBLES COMPETITOR RANKINGS DATA FROM THE API ENDPOINTS***"
   ]
  },
  {
   "cell_type": "code",
   "execution_count": 66,
   "metadata": {},
   "outputs": [],
   "source": [
    "#Data from Doubles competitor rankings\n",
    "import requests\n",
    "\n",
    "url = \"https://api.sportradar.com/tennis/trial/v3/en/double_competitors_rankings.json?api_key=a08eFD4gW6W90MmstinncNcOJsJBht3e3PLwWb8q\"\n",
    "\n",
    "headers = {\"accept\": \"application/json\"}\n",
    "\n",
    "response2 = requests.get(url, headers=headers)"
   ]
  },
  {
   "cell_type": "code",
   "execution_count": null,
   "metadata": {},
   "outputs": [],
   "source": [
    "# Storing json data into another variable\n",
    "competitor_rankings =response2.text\n",
    "#Converting json data into a dictionary format\n",
    "cr_dict=json.loads(competitor_rankings)\n",
    "#Normalizing nested json data into structured format \n",
    "cr_nor=pd.json_normalize(cr_dict,record_path=['rankings','competitor_rankings'])\n",
    "#Normalized data converted into a Dataframe\n",
    "cr_df=pd.DataFrame(cr_nor)\n"
   ]
  },
  {
   "cell_type": "code",
   "execution_count": 69,
   "metadata": {},
   "outputs": [],
   "source": [
    "#Renaming a column\n",
    "cr_df.rename(columns={'competitor.id':'competitor_id'},inplace = True)"
   ]
  },
  {
   "cell_type": "code",
   "execution_count": 70,
   "metadata": {},
   "outputs": [],
   "source": [
    "#Renaming a column\n",
    "cr_df.rename(columns={'competitor.name':'name'},inplace = True)"
   ]
  },
  {
   "cell_type": "code",
   "execution_count": 71,
   "metadata": {},
   "outputs": [],
   "source": [
    "#Renaming a column\n",
    "cr_df.rename(columns={'competitor.country':'country'},inplace = True)"
   ]
  },
  {
   "cell_type": "code",
   "execution_count": 72,
   "metadata": {},
   "outputs": [],
   "source": [
    "#Renaming a column\n",
    "cr_df.rename(columns={'competitor.country_code':'country_code'},inplace = True)"
   ]
  },
  {
   "cell_type": "code",
   "execution_count": 73,
   "metadata": {},
   "outputs": [],
   "source": [
    "#Renaming a column\n",
    "cr_df.rename(columns={'competitor.abbreviation':'abbreviation'},inplace = True)\n"
   ]
  },
  {
   "cell_type": "code",
   "execution_count": 74,
   "metadata": {},
   "outputs": [],
   "source": [
    "#adding new column rank_id\n",
    "cr_df['rank_id'] =cr_df.index + 1"
   ]
  },
  {
   "cell_type": "code",
   "execution_count": 78,
   "metadata": {},
   "outputs": [],
   "source": [
    "#Seprating Competitor_Rankings table from dataframe\n",
    "cr_df_rank=cr_df[['rank_id','rank','movement','points','competitions_played','competitor_id']]"
   ]
  },
  {
   "cell_type": "code",
   "execution_count": null,
   "metadata": {},
   "outputs": [],
   "source": [
    "#importing Competitor_Rankings Table to sports database\n",
    "from sqlalchemy import create_engine\n",
    "host = \"localhost\"\n",
    "port =\"5432\"\n",
    "username = \"postgres\" \n",
    "password = \"begin25\"\n",
    "db_name = \"game_analytics\"\n",
    "\n",
    "conn_string =f\"postgresql://{username}:{password}@{host}:{port}/{db_name}\" #must follow this syntax\n",
    "\n",
    "engine = create_engine(conn_string)\n",
    "\n",
    "table_name =\"competitor_rankings\"\n",
    "\n",
    "cr_df_rank.to_sql(table_name,engine,if_exists=\"replace\",index= False)\n",
    "print('Data Transferred Successfully')\n"
   ]
  },
  {
   "cell_type": "code",
   "execution_count": null,
   "metadata": {},
   "outputs": [],
   "source": [
    "#Seprating competitors_table from dataframe\n",
    "competitors = cr_df[['competitor_id','name','country','country_code','abbreviation']]"
   ]
  },
  {
   "cell_type": "code",
   "execution_count": null,
   "metadata": {},
   "outputs": [],
   "source": [
    "#importing Competitors Table  to sports database\n",
    "from sqlalchemy import create_engine\n",
    "host = \"localhost\"\n",
    "port =\"5432\"\n",
    "username = \"postgres\" \n",
    "password = \"begin25\"\n",
    "db_name = \"game_analytics\"\n",
    "\n",
    "conn_string =f\"postgresql://{username}:{password}@{host}:{port}/{db_name}\" #must follow this syntax\n",
    "\n",
    "engine = create_engine(conn_string)\n",
    "\n",
    "table_name =\"competitors_table\"\n",
    "\n",
    "competitors.to_sql(table_name,engine,if_exists=\"replace\",index= False)\n",
    "print('Data Transferred Successfully')"
   ]
  },
  {
   "cell_type": "markdown",
   "metadata": {},
   "source": [
    "***Inserting complete data***"
   ]
  },
  {
   "cell_type": "code",
   "execution_count": null,
   "metadata": {},
   "outputs": [],
   "source": [
    "#Tennis_Tournaments\n",
    "\n",
    "from sqlalchemy import create_engine\n",
    "host = \"localhost\"\n",
    "port =\"5432\"\n",
    "username = \"postgres\" \n",
    "password = \"begin25\"\n",
    "db_name = \"game_analytics\"\n",
    "\n",
    "conn_string =f\"postgresql://{username}:{password}@{host}:{port}/{db_name}\" #must follow this syntax\n",
    "\n",
    "engine= create_engine(conn_string)\n",
    "\n",
    "table_name='tennis_tournaments'\n",
    "\n",
    "competitions_df.to_sql(table_name,engine,if_exists=\"replace\",index=False)\n",
    "print('Data Transferred Successfully')"
   ]
  },
  {
   "cell_type": "code",
   "execution_count": null,
   "metadata": {},
   "outputs": [],
   "source": [
    "#Points Table\n",
    "\n",
    "from sqlalchemy import create_engine\n",
    "host = \"localhost\"\n",
    "port =\"5432\"\n",
    "username = \"postgres\" \n",
    "password = \"begin25\"\n",
    "db_name = \"game_analytics\"\n",
    "\n",
    "conn_string =f\"postgresql://{username}:{password}@{host}:{port}/{db_name}\" #must follow this syntax\n",
    "\n",
    "engine= create_engine(conn_string)\n",
    "\n",
    "table_name='points_details'\n",
    "\n",
    "cr_df.to_sql(table_name,engine,if_exists=\"replace\",index=False)\n",
    "print('Data Transferred Successfully')"
   ]
  },
  {
   "cell_type": "code",
   "execution_count": null,
   "metadata": {},
   "outputs": [],
   "source": [
    "#tennis_courts\n",
    "\n",
    "from sqlalchemy import create_engine\n",
    "host = \"localhost\"\n",
    "port =\"5432\"\n",
    "username = \"postgres\" \n",
    "password = \"begin25\"\n",
    "db_name = \"game_analytics\"\n",
    "\n",
    "conn_string =f\"postgresql://{username}:{password}@{host}:{port}/{db_name}\" #must follow this syntax\n",
    "\n",
    "engine= create_engine(conn_string)\n",
    "\n",
    "table_name='tennis_courts'\n",
    "\n",
    "complexes_final.to_sql(table_name,engine,if_exists=\"replace\",index=False)\n",
    "print('Data Transferred Successfully')"
   ]
  }
 ],
 "metadata": {
  "kernelspec": {
   "display_name": "Python 3",
   "language": "python",
   "name": "python3"
  },
  "language_info": {
   "codemirror_mode": {
    "name": "ipython",
    "version": 3
   },
   "file_extension": ".py",
   "mimetype": "text/x-python",
   "name": "python",
   "nbconvert_exporter": "python",
   "pygments_lexer": "ipython3",
   "version": "3.12.8"
  }
 },
 "nbformat": 4,
 "nbformat_minor": 2
}
